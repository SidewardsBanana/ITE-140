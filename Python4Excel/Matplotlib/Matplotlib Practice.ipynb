{
 "cells": [
  {
   "cell_type": "code",
   "execution_count": 11,
   "id": "34416b0e",
   "metadata": {},
   "outputs": [],
   "source": [
    "import numpy as np\n",
    "import pandas as pd\n",
    "%matplotlib notebook"
   ]
  },
  {
   "cell_type": "code",
   "execution_count": 12,
   "id": "9bfb99e6",
   "metadata": {},
   "outputs": [
    {
     "data": {
      "text/html": [
       "<div>\n",
       "<style scoped>\n",
       "    .dataframe tbody tr th:only-of-type {\n",
       "        vertical-align: middle;\n",
       "    }\n",
       "\n",
       "    .dataframe tbody tr th {\n",
       "        vertical-align: top;\n",
       "    }\n",
       "\n",
       "    .dataframe thead th {\n",
       "        text-align: right;\n",
       "    }\n",
       "</style>\n",
       "<table border=\"1\" class=\"dataframe\">\n",
       "  <thead>\n",
       "    <tr style=\"text-align: right;\">\n",
       "      <th>Food</th>\n",
       "      <th>Breakfast</th>\n",
       "      <th>Lunch</th>\n",
       "      <th>Dinner</th>\n",
       "      <th>Dessert</th>\n",
       "    </tr>\n",
       "    <tr>\n",
       "      <th>Time</th>\n",
       "      <th></th>\n",
       "      <th></th>\n",
       "      <th></th>\n",
       "      <th></th>\n",
       "    </tr>\n",
       "  </thead>\n",
       "  <tbody>\n",
       "    <tr>\n",
       "      <th>Morning</th>\n",
       "      <td>32.808496</td>\n",
       "      <td>1163.419812</td>\n",
       "      <td>2921.901599</td>\n",
       "      <td>72.745931</td>\n",
       "    </tr>\n",
       "    <tr>\n",
       "      <th>Noon</th>\n",
       "      <td>1360.285281</td>\n",
       "      <td>1646.133446</td>\n",
       "      <td>2340.821718</td>\n",
       "      <td>1636.134541</td>\n",
       "    </tr>\n",
       "    <tr>\n",
       "      <th>Evening</th>\n",
       "      <td>2539.607486</td>\n",
       "      <td>2869.423909</td>\n",
       "      <td>1147.189197</td>\n",
       "      <td>1307.705379</td>\n",
       "    </tr>\n",
       "    <tr>\n",
       "      <th>Night</th>\n",
       "      <td>1200.709575</td>\n",
       "      <td>308.123413</td>\n",
       "      <td>2657.341892</td>\n",
       "      <td>122.743173</td>\n",
       "    </tr>\n",
       "  </tbody>\n",
       "</table>\n",
       "</div>"
      ],
      "text/plain": [
       "Food       Breakfast        Lunch       Dinner      Dessert\n",
       "Time                                                       \n",
       "Morning    32.808496  1163.419812  2921.901599    72.745931\n",
       "Noon     1360.285281  1646.133446  2340.821718  1636.134541\n",
       "Evening  2539.607486  2869.423909  1147.189197  1307.705379\n",
       "Night    1200.709575   308.123413  2657.341892   122.743173"
      ]
     },
     "execution_count": 12,
     "metadata": {},
     "output_type": "execute_result"
    }
   ],
   "source": [
    "# Trying To Make It Different From Example\n",
    "data = pd.DataFrame(data=np.random.rand(4,4) * 3000,\n",
    "                   index=[\"Morning\", \"Noon\", \"Evening\", \"Night\"],\n",
    "                    columns=[\"Breakfast\", \"Lunch\", \"Dinner\", \"Dessert\"])\n",
    "data.index.name = \"Time\"\n",
    "data.columns.name = \"Food\"\n",
    "data"
   ]
  },
  {
   "cell_type": "code",
   "execution_count": null,
   "id": "8643e829",
   "metadata": {},
   "outputs": [],
   "source": []
  }
 ],
 "metadata": {
  "kernelspec": {
   "display_name": "Python 3 (ipykernel)",
   "language": "python",
   "name": "python3"
  },
  "language_info": {
   "codemirror_mode": {
    "name": "ipython",
    "version": 3
   },
   "file_extension": ".py",
   "mimetype": "text/x-python",
   "name": "python",
   "nbconvert_exporter": "python",
   "pygments_lexer": "ipython3",
   "version": "3.9.12"
  }
 },
 "nbformat": 4,
 "nbformat_minor": 5
}
