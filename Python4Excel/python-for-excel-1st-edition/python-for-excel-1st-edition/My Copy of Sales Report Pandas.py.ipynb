{
 "cells": [
  {
   "cell_type": "code",
   "execution_count": 1,
   "id": "74352f64",
   "metadata": {},
   "outputs": [],
   "source": [
    "from pathlib import Path\n",
    "import pandas as pd"
   ]
  },
  {
   "cell_type": "code",
   "execution_count": 2,
   "id": "b55e30a2",
   "metadata": {},
   "outputs": [],
   "source": [
    "# Directory of This Current File\n",
    "this_dir = Path(\".\").resolve()"
   ]
  },
  {
   "cell_type": "code",
   "execution_count": 3,
   "id": "9495d397",
   "metadata": {},
   "outputs": [
    {
     "name": "stdout",
     "output_type": "stream",
     "text": [
      "Reading April.xls\n",
      "Reading August.xls\n",
      "Reading December.xls\n",
      "Reading February.xls\n",
      "Reading January.xls\n",
      "Reading July.xls\n",
      "Reading June.xls\n",
      "Reading March.xls\n",
      "Reading May.xls\n",
      "Reading November.xls\n",
      "Reading October.xls\n",
      "Reading September.xls\n",
      "Reading April.xlsx\n",
      "Reading August.xlsx\n",
      "Reading December.xlsx\n",
      "Reading February.xlsx\n",
      "Reading January.xlsx\n",
      "Reading July.xlsx\n",
      "Reading June.xlsx\n",
      "Reading March.xlsx\n",
      "Reading May.xlsx\n",
      "Reading November.xlsx\n",
      "Reading October.xlsx\n",
      "Reading September.xlsx\n"
     ]
    }
   ],
   "source": [
    "# Read all Excel Files From Every Subfolder of sales_data\n",
    "parts = []\n",
    "for path in (this_dir / \"sales_data\").rglob(\"*.xls*\"):\n",
    "    print(f\"Reading {path.name}\")\n",
    "    part = pd.read_excel(path, index_col=\"transaction_id\")\n",
    "    parts.append(part)"
   ]
  },
  {
   "cell_type": "code",
   "execution_count": null,
   "id": "b101040b",
   "metadata": {},
   "outputs": [],
   "source": []
  }
 ],
 "metadata": {
  "kernelspec": {
   "display_name": "Python 3 (ipykernel)",
   "language": "python",
   "name": "python3"
  },
  "language_info": {
   "codemirror_mode": {
    "name": "ipython",
    "version": 3
   },
   "file_extension": ".py",
   "mimetype": "text/x-python",
   "name": "python",
   "nbconvert_exporter": "python",
   "pygments_lexer": "ipython3",
   "version": "3.9.12"
  },
  "vscode": {
   "interpreter": {
    "hash": "a4c9d489005239879aadba389cff22165ea2c45d8ef60f0f917e34c4b3cb174b"
   }
  }
 },
 "nbformat": 4,
 "nbformat_minor": 5
}
