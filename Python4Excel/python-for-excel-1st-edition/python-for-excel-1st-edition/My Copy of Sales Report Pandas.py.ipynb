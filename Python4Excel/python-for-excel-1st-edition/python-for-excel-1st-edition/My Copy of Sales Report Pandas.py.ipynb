{
 "cells": [
  {
   "cell_type": "code",
   "execution_count": 1,
   "id": "74352f64",
   "metadata": {},
   "outputs": [],
   "source": [
    "from pathlib import Path\n",
    "import pandas as pd"
   ]
  },
  {
   "cell_type": "code",
   "execution_count": 6,
   "id": "b55e30a2",
   "metadata": {},
   "outputs": [],
   "source": [
    "# Directory of This Current File\n",
    "this_dir = Path(\".\").resolve()"
   ]
  },
  {
   "cell_type": "code",
   "execution_count": null,
   "id": "9495d397",
   "metadata": {},
   "outputs": [],
   "source": []
  }
 ],
 "metadata": {
  "kernelspec": {
   "display_name": "Python 3.10.6 64-bit",
   "language": "python",
   "name": "python3"
  },
  "language_info": {
   "codemirror_mode": {
    "name": "ipython",
    "version": 3
   },
   "file_extension": ".py",
   "mimetype": "text/x-python",
   "name": "python",
   "nbconvert_exporter": "python",
   "pygments_lexer": "ipython3",
   "version": "3.10.6"
  },
  "vscode": {
   "interpreter": {
    "hash": "a4c9d489005239879aadba389cff22165ea2c45d8ef60f0f917e34c4b3cb174b"
   }
  }
 },
 "nbformat": 4,
 "nbformat_minor": 5
}
